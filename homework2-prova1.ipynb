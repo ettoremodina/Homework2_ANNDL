{
 "cells": [
  {
   "cell_type": "code",
   "execution_count": 1,
   "id": "37f8639c",
   "metadata": {
    "_cell_guid": "b1076dfc-b9ad-4769-8c92-a6c4dae69d19",
    "_uuid": "8f2839f25d086af736a60e9eeb907d3b93b6e0e5",
    "execution": {
     "iopub.execute_input": "2023-11-30T16:47:54.455817Z",
     "iopub.status.busy": "2023-11-30T16:47:54.455388Z",
     "iopub.status.idle": "2023-11-30T16:47:54.460839Z",
     "shell.execute_reply": "2023-11-30T16:47:54.459669Z"
    },
    "papermill": {
     "duration": 0.012318,
     "end_time": "2023-11-30T16:47:54.463234",
     "exception": false,
     "start_time": "2023-11-30T16:47:54.450916",
     "status": "completed"
    },
    "tags": []
   },
   "outputs": [],
   "source": [
    "\n",
    "# You can write up to 20GB to the current directory (/kaggle/working/) that gets preserved as output when you create a version using \"Save & Run All\" \n",
    "# You can also write temporary files to /kaggle/temp/, but they won't be saved outside of the current session"
   ]
  },
  {
   "cell_type": "code",
   "execution_count": 2,
   "id": "3f771a7d",
   "metadata": {
    "execution": {
     "iopub.execute_input": "2023-11-30T16:47:54.470098Z",
     "iopub.status.busy": "2023-11-30T16:47:54.469162Z",
     "iopub.status.idle": "2023-11-30T16:47:54.478805Z",
     "shell.execute_reply": "2023-11-30T16:47:54.477792Z"
    },
    "papermill": {
     "duration": 0.016605,
     "end_time": "2023-11-30T16:47:54.482151",
     "exception": false,
     "start_time": "2023-11-30T16:47:54.465546",
     "status": "completed"
    },
    "tags": []
   },
   "outputs": [],
   "source": [
    "prova =2"
   ]
  },
  {
   "cell_type": "markdown",
   "id": "a27e3135",
   "metadata": {
    "papermill": {
     "duration": 0.002442,
     "end_time": "2023-11-30T16:47:54.487441",
     "exception": false,
     "start_time": "2023-11-30T16:47:54.484999",
     "status": "completed"
    },
    "tags": []
   },
   "source": [
    "# prova"
   ]
  },
  {
   "cell_type": "code",
   "execution_count": 3,
   "id": "7822cd42",
   "metadata": {
    "execution": {
     "iopub.execute_input": "2023-11-30T16:47:54.493845Z",
     "iopub.status.busy": "2023-11-30T16:47:54.493457Z",
     "iopub.status.idle": "2023-11-30T16:47:54.497404Z",
     "shell.execute_reply": "2023-11-30T16:47:54.496662Z"
    },
    "papermill": {
     "duration": 0.009138,
     "end_time": "2023-11-30T16:47:54.499334",
     "exception": false,
     "start_time": "2023-11-30T16:47:54.490196",
     "status": "completed"
    },
    "tags": []
   },
   "outputs": [],
   "source": [
    "prova = 3"
   ]
  }
 ],
 "metadata": {
  "kaggle": {
   "accelerator": "none",
   "dataSources": [],
   "dockerImageVersionId": 30587,
   "isGpuEnabled": false,
   "isInternetEnabled": false,
   "language": "python",
   "sourceType": "notebook"
  },
  "kernelspec": {
   "display_name": "Python 3",
   "language": "python",
   "name": "python3"
  },
  "language_info": {
   "codemirror_mode": {
    "name": "ipython",
    "version": 3
   },
   "file_extension": ".py",
   "mimetype": "text/x-python",
   "name": "python",
   "nbconvert_exporter": "python",
   "pygments_lexer": "ipython3",
   "version": "3.10.12"
  },
  "papermill": {
   "default_parameters": {},
   "duration": 3.704688,
   "end_time": "2023-11-30T16:47:54.920941",
   "environment_variables": {},
   "exception": null,
   "input_path": "__notebook__.ipynb",
   "output_path": "__notebook__.ipynb",
   "parameters": {},
   "start_time": "2023-11-30T16:47:51.216253",
   "version": "2.4.0"
  }
 },
 "nbformat": 4,
 "nbformat_minor": 5
}
