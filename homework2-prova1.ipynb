{
 "cells": [
  {
   "cell_type": "code",
   "execution_count": 1,
   "id": "86ec4afa",
   "metadata": {
    "_cell_guid": "b1076dfc-b9ad-4769-8c92-a6c4dae69d19",
    "_uuid": "8f2839f25d086af736a60e9eeb907d3b93b6e0e5",
    "execution": {
     "iopub.execute_input": "2023-11-30T16:42:08.862119Z",
     "iopub.status.busy": "2023-11-30T16:42:08.861719Z",
     "iopub.status.idle": "2023-11-30T16:42:08.866149Z",
     "shell.execute_reply": "2023-11-30T16:42:08.865373Z"
    },
    "papermill": {
     "duration": 0.010267,
     "end_time": "2023-11-30T16:42:08.868008",
     "exception": false,
     "start_time": "2023-11-30T16:42:08.857741",
     "status": "completed"
    },
    "tags": []
   },
   "outputs": [],
   "source": [
    "\n",
    "# You can write up to 20GB to the current directory (/kaggle/working/) that gets preserved as output when you create a version using \"Save & Run All\" \n",
    "# You can also write temporary files to /kaggle/temp/, but they won't be saved outside of the current session"
   ]
  },
  {
   "cell_type": "code",
   "execution_count": 2,
   "id": "3697b647",
   "metadata": {
    "execution": {
     "iopub.execute_input": "2023-11-30T16:42:08.873160Z",
     "iopub.status.busy": "2023-11-30T16:42:08.872546Z",
     "iopub.status.idle": "2023-11-30T16:42:08.880284Z",
     "shell.execute_reply": "2023-11-30T16:42:08.879330Z"
    },
    "papermill": {
     "duration": 0.012267,
     "end_time": "2023-11-30T16:42:08.882205",
     "exception": false,
     "start_time": "2023-11-30T16:42:08.869938",
     "status": "completed"
    },
    "tags": []
   },
   "outputs": [],
   "source": [
    "prova =2"
   ]
  },
  {
   "cell_type": "markdown",
   "id": "71f3a546",
   "metadata": {
    "papermill": {
     "duration": 0.001375,
     "end_time": "2023-11-30T16:42:08.885313",
     "exception": false,
     "start_time": "2023-11-30T16:42:08.883938",
     "status": "completed"
    },
    "tags": []
   },
   "source": [
    "# prova"
   ]
  }
 ],
 "metadata": {
  "kaggle": {
   "accelerator": "none",
   "dataSources": [],
   "dockerImageVersionId": 30587,
   "isGpuEnabled": false,
   "isInternetEnabled": false,
   "language": "python",
   "sourceType": "notebook"
  },
  "kernelspec": {
   "display_name": "Python 3",
   "language": "python",
   "name": "python3"
  },
  "language_info": {
   "codemirror_mode": {
    "name": "ipython",
    "version": 3
   },
   "file_extension": ".py",
   "mimetype": "text/x-python",
   "name": "python",
   "nbconvert_exporter": "python",
   "pygments_lexer": "ipython3",
   "version": "3.10.12"
  },
  "papermill": {
   "default_parameters": {},
   "duration": 3.251198,
   "end_time": "2023-11-30T16:42:09.204774",
   "environment_variables": {},
   "exception": null,
   "input_path": "__notebook__.ipynb",
   "output_path": "__notebook__.ipynb",
   "parameters": {},
   "start_time": "2023-11-30T16:42:05.953576",
   "version": "2.4.0"
  }
 },
 "nbformat": 4,
 "nbformat_minor": 5
}
