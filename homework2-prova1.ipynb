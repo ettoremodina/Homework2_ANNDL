{
 "cells": [
  {
   "cell_type": "code",
   "execution_count": 1,
   "id": "16fa1b09",
   "metadata": {
    "_cell_guid": "b1076dfc-b9ad-4769-8c92-a6c4dae69d19",
    "_uuid": "8f2839f25d086af736a60e9eeb907d3b93b6e0e5",
    "execution": {
     "iopub.execute_input": "2023-11-30T16:45:08.859682Z",
     "iopub.status.busy": "2023-11-30T16:45:08.858888Z",
     "iopub.status.idle": "2023-11-30T16:45:08.864127Z",
     "shell.execute_reply": "2023-11-30T16:45:08.863387Z"
    },
    "papermill": {
     "duration": 0.012594,
     "end_time": "2023-11-30T16:45:08.866600",
     "exception": false,
     "start_time": "2023-11-30T16:45:08.854006",
     "status": "completed"
    },
    "tags": []
   },
   "outputs": [],
   "source": [
    "\n",
    "# You can write up to 20GB to the current directory (/kaggle/working/) that gets preserved as output when you create a version using \"Save & Run All\" \n",
    "# You can also write temporary files to /kaggle/temp/, but they won't be saved outside of the current session"
   ]
  },
  {
   "cell_type": "code",
   "execution_count": 2,
   "id": "af1a7709",
   "metadata": {
    "execution": {
     "iopub.execute_input": "2023-11-30T16:45:08.873203Z",
     "iopub.status.busy": "2023-11-30T16:45:08.872590Z",
     "iopub.status.idle": "2023-11-30T16:45:08.882046Z",
     "shell.execute_reply": "2023-11-30T16:45:08.881269Z"
    },
    "papermill": {
     "duration": 0.015345,
     "end_time": "2023-11-30T16:45:08.884450",
     "exception": false,
     "start_time": "2023-11-30T16:45:08.869105",
     "status": "completed"
    },
    "tags": []
   },
   "outputs": [],
   "source": [
    "prova =2"
   ]
  },
  {
   "cell_type": "markdown",
   "id": "5bb5b9ab",
   "metadata": {
    "papermill": {
     "duration": 0.001955,
     "end_time": "2023-11-30T16:45:08.888765",
     "exception": false,
     "start_time": "2023-11-30T16:45:08.886810",
     "status": "completed"
    },
    "tags": []
   },
   "source": [
    "# prova"
   ]
  },
  {
   "cell_type": "code",
   "execution_count": 3,
   "id": "b79ccbfc",
   "metadata": {
    "execution": {
     "iopub.execute_input": "2023-11-30T16:45:08.895989Z",
     "iopub.status.busy": "2023-11-30T16:45:08.894502Z",
     "iopub.status.idle": "2023-11-30T16:45:08.899290Z",
     "shell.execute_reply": "2023-11-30T16:45:08.898572Z"
    },
    "papermill": {
     "duration": 0.010392,
     "end_time": "2023-11-30T16:45:08.901320",
     "exception": false,
     "start_time": "2023-11-30T16:45:08.890928",
     "status": "completed"
    },
    "tags": []
   },
   "outputs": [],
   "source": [
    "prova = 3"
   ]
  }
 ],
 "metadata": {
  "kaggle": {
   "accelerator": "none",
   "dataSources": [],
   "dockerImageVersionId": 30587,
   "isGpuEnabled": false,
   "isInternetEnabled": false,
   "language": "python",
   "sourceType": "notebook"
  },
  "kernelspec": {
   "display_name": "Python 3",
   "language": "python",
   "name": "python3"
  },
  "language_info": {
   "codemirror_mode": {
    "name": "ipython",
    "version": 3
   },
   "file_extension": ".py",
   "mimetype": "text/x-python",
   "name": "python",
   "nbconvert_exporter": "python",
   "pygments_lexer": "ipython3",
   "version": "3.10.12"
  },
  "papermill": {
   "default_parameters": {},
   "duration": 3.723498,
   "end_time": "2023-11-30T16:45:09.223174",
   "environment_variables": {},
   "exception": null,
   "input_path": "__notebook__.ipynb",
   "output_path": "__notebook__.ipynb",
   "parameters": {},
   "start_time": "2023-11-30T16:45:05.499676",
   "version": "2.4.0"
  }
 },
 "nbformat": 4,
 "nbformat_minor": 5
}
