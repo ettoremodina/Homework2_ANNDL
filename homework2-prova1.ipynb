{
 "cells": [
  {
   "cell_type": "code",
   "execution_count": 1,
   "id": "7b9e055b",
   "metadata": {
    "_cell_guid": "b1076dfc-b9ad-4769-8c92-a6c4dae69d19",
    "_uuid": "8f2839f25d086af736a60e9eeb907d3b93b6e0e5",
    "execution": {
     "iopub.execute_input": "2023-11-30T16:50:28.262417Z",
     "iopub.status.busy": "2023-11-30T16:50:28.261706Z",
     "iopub.status.idle": "2023-11-30T16:50:28.273529Z",
     "shell.execute_reply": "2023-11-30T16:50:28.272439Z"
    },
    "papermill": {
     "duration": 0.019802,
     "end_time": "2023-11-30T16:50:28.276469",
     "exception": false,
     "start_time": "2023-11-30T16:50:28.256667",
     "status": "completed"
    },
    "tags": []
   },
   "outputs": [],
   "source": [
    "ultima_prova = True"
   ]
  },
  {
   "cell_type": "code",
   "execution_count": 2,
   "id": "1603b807",
   "metadata": {
    "execution": {
     "iopub.execute_input": "2023-11-30T16:50:28.284206Z",
     "iopub.status.busy": "2023-11-30T16:50:28.283697Z",
     "iopub.status.idle": "2023-11-30T16:50:28.288313Z",
     "shell.execute_reply": "2023-11-30T16:50:28.287472Z"
    },
    "papermill": {
     "duration": 0.011589,
     "end_time": "2023-11-30T16:50:28.290809",
     "exception": false,
     "start_time": "2023-11-30T16:50:28.279220",
     "status": "completed"
    },
    "tags": []
   },
   "outputs": [],
   "source": [
    "prova =2"
   ]
  },
  {
   "cell_type": "markdown",
   "id": "dd899b0c",
   "metadata": {
    "papermill": {
     "duration": 0.00212,
     "end_time": "2023-11-30T16:50:28.295729",
     "exception": false,
     "start_time": "2023-11-30T16:50:28.293609",
     "status": "completed"
    },
    "tags": []
   },
   "source": [
    "# prova"
   ]
  },
  {
   "cell_type": "code",
   "execution_count": 3,
   "id": "72f26094",
   "metadata": {
    "execution": {
     "iopub.execute_input": "2023-11-30T16:50:28.302549Z",
     "iopub.status.busy": "2023-11-30T16:50:28.302133Z",
     "iopub.status.idle": "2023-11-30T16:50:28.306938Z",
     "shell.execute_reply": "2023-11-30T16:50:28.305644Z"
    },
    "papermill": {
     "duration": 0.011252,
     "end_time": "2023-11-30T16:50:28.309335",
     "exception": false,
     "start_time": "2023-11-30T16:50:28.298083",
     "status": "completed"
    },
    "tags": []
   },
   "outputs": [],
   "source": [
    "prova = 3"
   ]
  }
 ],
 "metadata": {
  "kaggle": {
   "accelerator": "none",
   "dataSources": [],
   "dockerImageVersionId": 30587,
   "isGpuEnabled": false,
   "isInternetEnabled": false,
   "language": "python",
   "sourceType": "notebook"
  },
  "kernelspec": {
   "display_name": "Python 3",
   "language": "python",
   "name": "python3"
  },
  "language_info": {
   "codemirror_mode": {
    "name": "ipython",
    "version": 3
   },
   "file_extension": ".py",
   "mimetype": "text/x-python",
   "name": "python",
   "nbconvert_exporter": "python",
   "pygments_lexer": "ipython3",
   "version": "3.10.12"
  },
  "papermill": {
   "default_parameters": {},
   "duration": 4.064963,
   "end_time": "2023-11-30T16:50:28.732450",
   "environment_variables": {},
   "exception": null,
   "input_path": "__notebook__.ipynb",
   "output_path": "__notebook__.ipynb",
   "parameters": {},
   "start_time": "2023-11-30T16:50:24.667487",
   "version": "2.4.0"
  }
 },
 "nbformat": 4,
 "nbformat_minor": 5
}
